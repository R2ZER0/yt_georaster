{
 "cells": [
  {
   "cell_type": "code",
   "execution_count": null,
   "metadata": {},
   "outputs": [],
   "source": [
    "import yt\n",
    "import yt.extensions.geotiff"
   ]
  },
  {
   "cell_type": "markdown",
   "metadata": {},
   "source": [
    "### Read GeoTIFF with yt"
   ]
  },
  {
   "cell_type": "code",
   "execution_count": null,
   "metadata": {},
   "outputs": [],
   "source": [
    "filename = 'S2A_MSIL2A_20200601T113331_N0214_R080_T30UVG_20200601T123416_20m.tif'\n",
    "ds = yt.load(filename, field_map=\"sentinel2_fields.yaml\")"
   ]
  },
  {
   "cell_type": "markdown",
   "metadata": {},
   "source": [
    "### Normalised Difference Vegetation Index (NDVI)\n",
    "\n",
    "Here is an example of one thing we can easily calculate once the data is loaded into yt. The [Normalised Difference Vegetation Index](https://en.wikipedia.org/wiki/Normalized_difference_vegetation_index)! This is used to monitor vegetation density and health by comparing the reflectance of red (R) and near infrared (NIR) bands.\n",
    "For our case here the NIR band is the 9 band in the GeoTIFF we created and the R band is 3."
   ]
  },
  {
   "cell_type": "code",
   "execution_count": null,
   "metadata": {},
   "outputs": [],
   "source": [
    "def _ndvi(field, data):\n",
    "    return (data[('sentinel2', 'B8A')] - data[('sentinel2', 'B04')]) / \\\n",
    "           (data[('sentinel2', 'B8A')] + data[('sentinel2', 'B04')])"
   ]
  },
  {
   "cell_type": "code",
   "execution_count": null,
   "metadata": {},
   "outputs": [],
   "source": [
    "ds.add_field(\"ndvi\", function=_ndvi,\n",
    "             units=\"\", display_name='NDVI', take_log=False, sampling_type='cell')"
   ]
  },
  {
   "cell_type": "code",
   "execution_count": null,
   "metadata": {},
   "outputs": [],
   "source": [
    "def _surface_area(field, data):\n",
    "    return data['index', 'dx'] * data['index', 'dy']"
   ]
  },
  {
   "cell_type": "code",
   "execution_count": null,
   "metadata": {},
   "outputs": [],
   "source": [
    "ds.add_field(\"surface_area\", function=_surface_area,\n",
    "             units=\"km**2\", display_name=\"surface area\", sampling_type='cell')"
   ]
  },
  {
   "cell_type": "code",
   "execution_count": null,
   "metadata": {},
   "outputs": [],
   "source": [
    "p = yt.SlicePlot(ds, 'z', 'ndvi')\n",
    "p.set_cmap(field=\"ndvi\", cmap='RdYlGn')"
   ]
  },
  {
   "cell_type": "code",
   "execution_count": null,
   "metadata": {},
   "outputs": [],
   "source": [
    "ad = ds.all_data()"
   ]
  },
  {
   "cell_type": "code",
   "execution_count": null,
   "metadata": {},
   "outputs": [],
   "source": [
    "cr = ds.cut_region(ad, [\"obj['sentinel2', 'B04'] >= 100\", \"obj['sentinel2', 'B8A'] >= 100\"])"
   ]
  },
  {
   "cell_type": "code",
   "execution_count": null,
   "metadata": {},
   "outputs": [],
   "source": [
    "profile = yt.ProfilePlot(cr, 'ndvi', 'surface_area', weight_field=None)\n",
    "profile.show()"
   ]
  },
  {
   "cell_type": "code",
   "execution_count": null,
   "metadata": {},
   "outputs": [],
   "source": [
    "cr['surface_area'][cr['ndvi'] >= 0.5].sum()"
   ]
  },
  {
   "cell_type": "code",
   "execution_count": null,
   "metadata": {},
   "outputs": [],
   "source": [
    "ds.domain_width[:2].prod().to('km**2')"
   ]
  },
  {
   "cell_type": "code",
   "execution_count": null,
   "metadata": {},
   "outputs": [],
   "source": [
    "phase = yt.PhasePlot(cr, ('sentinel2', 'B8A'), ('sentinel2', 'B04'), 'surface_area', weight_field=None)\n",
    "phase.show()"
   ]
  },
  {
   "cell_type": "code",
   "execution_count": null,
   "metadata": {},
   "outputs": [],
   "source": []
  },
  {
   "cell_type": "code",
   "execution_count": null,
   "metadata": {},
   "outputs": [],
   "source": []
  },
  {
   "cell_type": "markdown",
   "metadata": {},
   "source": [
    "Dan, this was me messing with the LAI from the SNAP biophysical processor. We don't have to include this unless you think of something cool to do with it."
   ]
  },
  {
   "cell_type": "code",
   "execution_count": null,
   "metadata": {},
   "outputs": [],
   "source": [
    "ds2 = yt.load('S2A_MSIL2A_20200601T113331_N0214_R080_T30UVG_20200601T123416_resampled_biophysical.tif')"
   ]
  },
  {
   "cell_type": "code",
   "execution_count": null,
   "metadata": {
    "scrolled": false
   },
   "outputs": [],
   "source": [
    "p2 = yt.SlicePlot(ds2, 'z', ('bands', '1'))\n",
    "p2.set_log('1', False)\n",
    "p2.set_zlim('1', 0, 4)"
   ]
  },
  {
   "cell_type": "code",
   "execution_count": null,
   "metadata": {},
   "outputs": [],
   "source": []
  }
 ],
 "metadata": {
  "kernelspec": {
   "display_name": "Python 3",
   "language": "python",
   "name": "python3"
  },
  "language_info": {
   "codemirror_mode": {
    "name": "ipython",
    "version": 3
   },
   "file_extension": ".py",
   "mimetype": "text/x-python",
   "name": "python",
   "nbconvert_exporter": "python",
   "pygments_lexer": "ipython3",
   "version": "3.8.2"
  }
 },
 "nbformat": 4,
 "nbformat_minor": 4
}
