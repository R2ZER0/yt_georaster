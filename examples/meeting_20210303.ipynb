{
 "cells": [
  {
   "cell_type": "markdown",
   "id": "saved-oklahoma",
   "metadata": {},
   "source": [
    "## Milestone 2 steps:\n",
    "\n",
    "### - Load .jp2 files\n",
    "### - Add multiple bands in field list\n",
    "### - Add attribute dataset with filename of all .jp2 within directory\n",
    "### - Resample queried field dataset according to loaded dataset\n"
   ]
  },
  {
   "cell_type": "code",
   "execution_count": 1,
   "id": "designed-static",
   "metadata": {},
   "outputs": [],
   "source": [
    "import rasterio\n",
    "from rasterio.mask import mask\n",
    "from rasterio.windows import from_bounds\n",
    "from rasterstats import zonal_stats\n",
    "from rasterio.windows import Window\n",
    "from shapely.geometry import box\n",
    "from pathlib import Path\n",
    "import numpy as np\n",
    "from scipy.ndimage import label, generate_binary_structure\n",
    "import matplotlib.pyplot as plt\n",
    "import geopandas as gpd\n",
    "import pandas as pd\n",
    "import contextily as ctx\n",
    "import time\n",
    "\n",
    "# yt packages\n",
    "import yt\n",
    "import yt.extensions.geotiff\n",
    "\n",
    "# CPU usage\n",
    "import psutil\n",
    "\n",
    "# package of resampling methods\n",
    "from rasterio.enums import Resampling\n",
    "\n",
    "from rasterio.warp import calculate_default_transform, reproject, Resampling\n"
   ]
  },
  {
   "cell_type": "markdown",
   "id": "literary-school",
   "metadata": {},
   "source": [
    "## Load *.jp2 format and add field bands"
   ]
  },
  {
   "cell_type": "code",
   "execution_count": 2,
   "id": "sticky-scene",
   "metadata": {},
   "outputs": [],
   "source": [
    "s2_file = ('C:/Users/arevi/OneDrive/YT_GITHUB_v2/TEST_DATASETS/s2_sample/T30UVG_20200601T113331_B02_10m.jp2')"
   ]
  },
  {
   "cell_type": "code",
   "execution_count": 3,
   "id": "balanced-symphony",
   "metadata": {
    "scrolled": true
   },
   "outputs": [
    {
     "name": "stderr",
     "output_type": "stream",
     "text": [
      "yt : [INFO     ] 2021-03-16 14:49:27,100 Parameters: domain_dimensions         = [10980 10980     1]\n",
      "yt : [INFO     ] 2021-03-16 14:49:27,100 Parameters: domain_left_edge          = [ 399960. 6090240.       0.] m\n",
      "yt : [INFO     ] 2021-03-16 14:49:27,100 Parameters: domain_right_edge         = [5.09760e+05 6.20004e+06 1.00000e+00] m\n"
     ]
    }
   ],
   "source": [
    "ds = yt.load(s2_file)"
   ]
  },
  {
   "cell_type": "code",
   "execution_count": 4,
   "id": "limiting-retreat",
   "metadata": {},
   "outputs": [
    {
     "data": {
      "text/plain": [
       "[('bands', 'AOT_10'),\n",
       " ('bands', 'AOT_20'),\n",
       " ('bands', 'AOT_60'),\n",
       " ('bands', 'B01_60'),\n",
       " ('bands', 'B02_10'),\n",
       " ('bands', 'B02_20'),\n",
       " ('bands', 'B02_60'),\n",
       " ('bands', 'B03_10'),\n",
       " ('bands', 'B03_20'),\n",
       " ('bands', 'B03_60'),\n",
       " ('bands', 'B04_10'),\n",
       " ('bands', 'B04_20'),\n",
       " ('bands', 'B04_60'),\n",
       " ('bands', 'B05_20'),\n",
       " ('bands', 'B05_60'),\n",
       " ('bands', 'B06_20'),\n",
       " ('bands', 'B06_60'),\n",
       " ('bands', 'B07_20'),\n",
       " ('bands', 'B07_60'),\n",
       " ('bands', 'B08_10'),\n",
       " ('bands', 'B09_60'),\n",
       " ('bands', 'B11_20'),\n",
       " ('bands', 'B11_60'),\n",
       " ('bands', 'B12_20'),\n",
       " ('bands', 'B12_60'),\n",
       " ('bands', 'B8A_20'),\n",
       " ('bands', 'B8A_60'),\n",
       " ('bands', 'SCL_20'),\n",
       " ('bands', 'SCL_60'),\n",
       " ('bands', 'TCI_10'),\n",
       " ('bands', 'TCI_20'),\n",
       " ('bands', 'TCI_60'),\n",
       " ('bands', 'WVP_10'),\n",
       " ('bands', 'WVP_20'),\n",
       " ('bands', 'WVP_60')]"
      ]
     },
     "execution_count": 4,
     "metadata": {},
     "output_type": "execute_result"
    }
   ],
   "source": [
    "ds.field_list"
   ]
  },
  {
   "cell_type": "code",
   "execution_count": null,
   "id": "aggressive-southeast",
   "metadata": {},
   "outputs": [],
   "source": [
    "ds._field_filename"
   ]
  },
  {
   "cell_type": "code",
   "execution_count": 5,
   "id": "headed-pound",
   "metadata": {},
   "outputs": [],
   "source": [
    "# Define dimensions\n",
    "width = ds.arr(1000, 'm')\n",
    "height = ds.arr(1000,'m') \n",
    "rectangle_centre = ds.arr([487309,6196162],'m')\n",
    "\n",
    "rectangular_yt_container = ds.rectangle_from_center(rectangle_centre,width,height)"
   ]
  },
  {
   "cell_type": "code",
   "execution_count": 6,
   "id": "christian-department",
   "metadata": {
    "scrolled": true
   },
   "outputs": [
    {
     "name": "stdout",
     "output_type": "stream",
     "text": [
      "Resampling B02_60\n"
     ]
    },
    {
     "data": {
      "text/plain": [
       "unyt_array([373., 373., 373., ..., 370., 493., 493.], '(dimensionless)')"
      ]
     },
     "execution_count": 6,
     "metadata": {},
     "output_type": "execute_result"
    }
   ],
   "source": [
    "rectangular_yt_container[('bands','B02_60')]"
   ]
  },
  {
   "cell_type": "code",
   "execution_count": 7,
   "id": "indoor-bones",
   "metadata": {},
   "outputs": [
    {
     "ename": "AttributeError",
     "evalue": "'GeoTiffWindowDataset' object has no attribute 'resolution'",
     "output_type": "error",
     "traceback": [
      "\u001b[1;31m---------------------------------------------------------------------------\u001b[0m",
      "\u001b[1;31mAttributeError\u001b[0m                            Traceback (most recent call last)",
      "\u001b[1;32m<ipython-input-7-a7d3ffcd1fbd>\u001b[0m in \u001b[0;36m<module>\u001b[1;34m\u001b[0m\n\u001b[1;32m----> 1\u001b[1;33m \u001b[0mp\u001b[0m \u001b[1;33m=\u001b[0m \u001b[0mds\u001b[0m\u001b[1;33m.\u001b[0m\u001b[0mplot\u001b[0m\u001b[1;33m(\u001b[0m\u001b[1;33m(\u001b[0m\u001b[1;34m'bands'\u001b[0m\u001b[1;33m,\u001b[0m \u001b[1;34m'B04_20'\u001b[0m\u001b[1;33m)\u001b[0m\u001b[1;33m,\u001b[0m \u001b[0mheight\u001b[0m\u001b[1;33m=\u001b[0m\u001b[0mheight\u001b[0m\u001b[1;33m,\u001b[0m \u001b[0mwidth\u001b[0m\u001b[1;33m=\u001b[0m\u001b[0mwidth\u001b[0m\u001b[1;33m,\u001b[0m \u001b[0mcenter\u001b[0m\u001b[1;33m=\u001b[0m\u001b[0mrectangle_centre\u001b[0m\u001b[1;33m)\u001b[0m\u001b[1;33m\u001b[0m\u001b[1;33m\u001b[0m\u001b[0m\n\u001b[0m\u001b[0;32m      2\u001b[0m \u001b[0mp\u001b[0m\u001b[1;33m.\u001b[0m\u001b[0mset_log\u001b[0m\u001b[1;33m(\u001b[0m\u001b[1;33m(\u001b[0m\u001b[1;34m'bands'\u001b[0m\u001b[1;33m,\u001b[0m \u001b[1;34m'B04_20'\u001b[0m\u001b[1;33m)\u001b[0m\u001b[1;33m,\u001b[0m \u001b[1;32mFalse\u001b[0m\u001b[1;33m)\u001b[0m\u001b[1;33m\u001b[0m\u001b[1;33m\u001b[0m\u001b[0m\n\u001b[0;32m      3\u001b[0m \u001b[0mp\u001b[0m\u001b[1;33m.\u001b[0m\u001b[0mset_cmap\u001b[0m\u001b[1;33m(\u001b[0m\u001b[1;33m(\u001b[0m\u001b[1;34m'bands'\u001b[0m\u001b[1;33m,\u001b[0m \u001b[1;34m'B04_20'\u001b[0m\u001b[1;33m)\u001b[0m\u001b[1;33m,\u001b[0m \u001b[1;34m'B-W LINEAR'\u001b[0m\u001b[1;33m)\u001b[0m\u001b[1;33m\u001b[0m\u001b[1;33m\u001b[0m\u001b[0m\n\u001b[0;32m      4\u001b[0m \u001b[0mp\u001b[0m\u001b[1;33m.\u001b[0m\u001b[0mshow\u001b[0m\u001b[1;33m(\u001b[0m\u001b[1;33m)\u001b[0m\u001b[1;33m\u001b[0m\u001b[1;33m\u001b[0m\u001b[0m\n",
      "\u001b[1;32mc:\\users\\arevi\\onedrive\\yt_github_v2\\yt_geotiff\\yt_geotiff\\data_structures.py\u001b[0m in \u001b[0;36mplot\u001b[1;34m(self, field, data_source, center, width, height)\u001b[0m\n\u001b[0;32m    505\u001b[0m \u001b[1;33m\u001b[0m\u001b[0m\n\u001b[0;32m    506\u001b[0m         p = SlicePlot(wds, 'z', field, data_source=w_data_source,\n\u001b[1;32m--> 507\u001b[1;33m                       center=center, width=plot_width)\n\u001b[0m\u001b[0;32m    508\u001b[0m         \u001b[1;31m# make this an actual pointer so wds doesn't go out of scope\u001b[0m\u001b[1;33m\u001b[0m\u001b[1;33m\u001b[0m\u001b[1;33m\u001b[0m\u001b[0m\n\u001b[0;32m    509\u001b[0m         \u001b[0mp\u001b[0m\u001b[1;33m.\u001b[0m\u001b[0mds\u001b[0m \u001b[1;33m=\u001b[0m \u001b[0mwds\u001b[0m\u001b[1;33m\u001b[0m\u001b[1;33m\u001b[0m\u001b[0m\n",
      "\u001b[1;32m~\\OneDrive\\yt_project\\yt_geotiff-master\\yt\\yt\\visualization\\plot_window.py\u001b[0m in \u001b[0;36mSlicePlot\u001b[1;34m(ds, normal, fields, axis, *args, **kwargs)\u001b[0m\n\u001b[0;32m   2389\u001b[0m             \u001b[1;32mdel\u001b[0m \u001b[0mkwargs\u001b[0m\u001b[1;33m[\u001b[0m\u001b[1;34m\"north_vector\"\u001b[0m\u001b[1;33m]\u001b[0m\u001b[1;33m\u001b[0m\u001b[1;33m\u001b[0m\u001b[0m\n\u001b[0;32m   2390\u001b[0m \u001b[1;33m\u001b[0m\u001b[0m\n\u001b[1;32m-> 2391\u001b[1;33m         \u001b[1;32mreturn\u001b[0m \u001b[0mAxisAlignedSlicePlot\u001b[0m\u001b[1;33m(\u001b[0m\u001b[0mds\u001b[0m\u001b[1;33m,\u001b[0m \u001b[0mnormal\u001b[0m\u001b[1;33m,\u001b[0m \u001b[0mfields\u001b[0m\u001b[1;33m,\u001b[0m \u001b[1;33m*\u001b[0m\u001b[0margs\u001b[0m\u001b[1;33m,\u001b[0m \u001b[1;33m**\u001b[0m\u001b[0mkwargs\u001b[0m\u001b[1;33m)\u001b[0m\u001b[1;33m\u001b[0m\u001b[1;33m\u001b[0m\u001b[0m\n\u001b[0m\u001b[0;32m   2392\u001b[0m \u001b[1;33m\u001b[0m\u001b[0m\n\u001b[0;32m   2393\u001b[0m \u001b[1;33m\u001b[0m\u001b[0m\n",
      "\u001b[1;32m~\\OneDrive\\yt_project\\yt_geotiff-master\\yt\\yt\\visualization\\plot_window.py\u001b[0m in \u001b[0;36m__init__\u001b[1;34m(self, ds, axis, fields, center, width, axes_unit, origin, right_handed, fontsize, field_parameters, window_size, aspect, data_source, buff_size)\u001b[0m\n\u001b[0;32m   1518\u001b[0m                 \u001b[0mdata_source\u001b[0m\u001b[1;33m=\u001b[0m\u001b[0mdata_source\u001b[0m\u001b[1;33m,\u001b[0m\u001b[1;33m\u001b[0m\u001b[1;33m\u001b[0m\u001b[0m\n\u001b[0;32m   1519\u001b[0m             )\n\u001b[1;32m-> 1520\u001b[1;33m             \u001b[0mslc\u001b[0m\u001b[1;33m.\u001b[0m\u001b[0mget_data\u001b[0m\u001b[1;33m(\u001b[0m\u001b[0mfields\u001b[0m\u001b[1;33m)\u001b[0m\u001b[1;33m\u001b[0m\u001b[1;33m\u001b[0m\u001b[0m\n\u001b[0m\u001b[0;32m   1521\u001b[0m         \u001b[0mvalidate_mesh_fields\u001b[0m\u001b[1;33m(\u001b[0m\u001b[0mslc\u001b[0m\u001b[1;33m,\u001b[0m \u001b[0mfields\u001b[0m\u001b[1;33m)\u001b[0m\u001b[1;33m\u001b[0m\u001b[1;33m\u001b[0m\u001b[0m\n\u001b[0;32m   1522\u001b[0m         PWViewerMPL.__init__(\n",
      "\u001b[1;32m~\\OneDrive\\yt_project\\yt_geotiff-master\\yt\\yt\\data_objects\\selection_objects\\data_selection_objects.py\u001b[0m in \u001b[0;36mget_data\u001b[1;34m(self, fields)\u001b[0m\n\u001b[0;32m    194\u001b[0m         \u001b[1;31m# need to be generated.\u001b[0m\u001b[1;33m\u001b[0m\u001b[1;33m\u001b[0m\u001b[1;33m\u001b[0m\u001b[0m\n\u001b[0;32m    195\u001b[0m         read_fluids, gen_fluids = self.index._read_fluid_fields(\n\u001b[1;32m--> 196\u001b[1;33m             \u001b[0mfluids\u001b[0m\u001b[1;33m,\u001b[0m \u001b[0mself\u001b[0m\u001b[1;33m,\u001b[0m \u001b[0mself\u001b[0m\u001b[1;33m.\u001b[0m\u001b[0m_current_chunk\u001b[0m\u001b[1;33m\u001b[0m\u001b[1;33m\u001b[0m\u001b[0m\n\u001b[0m\u001b[0;32m    197\u001b[0m         )\n\u001b[0;32m    198\u001b[0m         \u001b[1;32mfor\u001b[0m \u001b[0mf\u001b[0m\u001b[1;33m,\u001b[0m \u001b[0mv\u001b[0m \u001b[1;32min\u001b[0m \u001b[0mread_fluids\u001b[0m\u001b[1;33m.\u001b[0m\u001b[0mitems\u001b[0m\u001b[1;33m(\u001b[0m\u001b[1;33m)\u001b[0m\u001b[1;33m:\u001b[0m\u001b[1;33m\u001b[0m\u001b[1;33m\u001b[0m\u001b[0m\n",
      "\u001b[1;32m~\\OneDrive\\yt_project\\yt_geotiff-master\\yt\\yt\\geometry\\geometry_handler.py\u001b[0m in \u001b[0;36m_read_fluid_fields\u001b[1;34m(self, fields, dobj, chunk)\u001b[0m\n\u001b[0;32m    224\u001b[0m             \u001b[0mchunk_size\u001b[0m \u001b[1;33m=\u001b[0m \u001b[0mchunk\u001b[0m\u001b[1;33m.\u001b[0m\u001b[0mdata_size\u001b[0m\u001b[1;33m\u001b[0m\u001b[1;33m\u001b[0m\u001b[0m\n\u001b[0;32m    225\u001b[0m         fields_to_return = self.io._read_fluid_selection(\n\u001b[1;32m--> 226\u001b[1;33m             \u001b[0mself\u001b[0m\u001b[1;33m.\u001b[0m\u001b[0m_chunk_io\u001b[0m\u001b[1;33m(\u001b[0m\u001b[0mdobj\u001b[0m\u001b[1;33m)\u001b[0m\u001b[1;33m,\u001b[0m \u001b[0mselector\u001b[0m\u001b[1;33m,\u001b[0m \u001b[0mfields_to_read\u001b[0m\u001b[1;33m,\u001b[0m \u001b[0mchunk_size\u001b[0m\u001b[1;33m\u001b[0m\u001b[1;33m\u001b[0m\u001b[0m\n\u001b[0m\u001b[0;32m    227\u001b[0m         )\n\u001b[0;32m    228\u001b[0m         \u001b[1;32mreturn\u001b[0m \u001b[0mfields_to_return\u001b[0m\u001b[1;33m,\u001b[0m \u001b[0mfields_to_generate\u001b[0m\u001b[1;33m\u001b[0m\u001b[1;33m\u001b[0m\u001b[0m\n",
      "\u001b[1;32mc:\\users\\arevi\\onedrive\\yt_github_v2\\yt_geotiff\\yt_geotiff\\io.py\u001b[0m in \u001b[0;36m_read_fluid_selection\u001b[1;34m(self, chunks, selector, fields, size)\u001b[0m\n\u001b[0;32m    244\u001b[0m                     \u001b[0mdata\u001b[0m \u001b[1;33m=\u001b[0m \u001b[0mself\u001b[0m\u001b[1;33m.\u001b[0m\u001b[0m_transform_data\u001b[0m\u001b[1;33m(\u001b[0m\u001b[0mdata\u001b[0m\u001b[1;33m)\u001b[0m\u001b[1;33m\u001b[0m\u001b[1;33m\u001b[0m\u001b[0m\n\u001b[0;32m    245\u001b[0m \u001b[1;33m\u001b[0m\u001b[0m\n\u001b[1;32m--> 246\u001b[1;33m                     \u001b[1;32mif\u001b[0m \u001b[0msrc\u001b[0m\u001b[1;33m.\u001b[0m\u001b[0mres\u001b[0m\u001b[1;33m[\u001b[0m\u001b[1;36m0\u001b[0m\u001b[1;33m]\u001b[0m \u001b[1;33m!=\u001b[0m \u001b[0mself\u001b[0m\u001b[1;33m.\u001b[0m\u001b[0mds\u001b[0m\u001b[1;33m.\u001b[0m\u001b[0mresolution\u001b[0m\u001b[1;33m.\u001b[0m\u001b[0md\u001b[0m\u001b[1;33m[\u001b[0m\u001b[1;36m0\u001b[0m\u001b[1;33m]\u001b[0m\u001b[1;33m:\u001b[0m\u001b[1;33m\u001b[0m\u001b[1;33m\u001b[0m\u001b[0m\n\u001b[0m\u001b[0;32m    247\u001b[0m                         \u001b[1;31m# calculate scale factor to adjust resolution\u001b[0m\u001b[1;33m\u001b[0m\u001b[1;33m\u001b[0m\u001b[1;33m\u001b[0m\u001b[0m\n\u001b[0;32m    248\u001b[0m                         \u001b[0mscale_factor\u001b[0m \u001b[1;33m=\u001b[0m \u001b[0msrc\u001b[0m\u001b[1;33m.\u001b[0m\u001b[0mres\u001b[0m\u001b[1;33m[\u001b[0m\u001b[1;36m0\u001b[0m\u001b[1;33m]\u001b[0m\u001b[1;33m/\u001b[0m\u001b[0mself\u001b[0m\u001b[1;33m.\u001b[0m\u001b[0mds\u001b[0m\u001b[1;33m.\u001b[0m\u001b[0mresolution\u001b[0m\u001b[1;33m.\u001b[0m\u001b[0md\u001b[0m\u001b[1;33m[\u001b[0m\u001b[1;36m0\u001b[0m\u001b[1;33m]\u001b[0m\u001b[1;33m\u001b[0m\u001b[1;33m\u001b[0m\u001b[0m\n",
      "\u001b[1;31mAttributeError\u001b[0m: 'GeoTiffWindowDataset' object has no attribute 'resolution'"
     ]
    }
   ],
   "source": [
    "p = ds.plot(('bands', 'B04_20'), height=height, width=width, center=rectangle_centre)\n",
    "p.set_log(('bands', 'B04_20'), False)\n",
    "p.set_cmap(('bands', 'B04_20'), 'B-W LINEAR')\n",
    "p.show()"
   ]
  },
  {
   "cell_type": "markdown",
   "id": "genuine-syracuse",
   "metadata": {},
   "source": [
    "## Rasterio image up/down sampling"
   ]
  },
  {
   "cell_type": "code",
   "execution_count": null,
   "id": "danish-entrepreneur",
   "metadata": {},
   "outputs": [],
   "source": [
    "s2_file = ('C:/Users/arevi/OneDrive/YT_GITHUB_v2/TEST_DATASETS/test_resampling_v2.tif')"
   ]
  },
  {
   "cell_type": "code",
   "execution_count": null,
   "id": "stylish-stuff",
   "metadata": {},
   "outputs": [],
   "source": [
    "with rasterio.open(s2_file) as dataset:\n",
    "    original_image = dataset.read()"
   ]
  },
  {
   "cell_type": "code",
   "execution_count": null,
   "id": "artistic-remove",
   "metadata": {
    "scrolled": false
   },
   "outputs": [],
   "source": [
    "fig, ax1 = plt.subplots(1,1, figsize=(10, 10))\n",
    "ax1.imshow(original_image[1,:,:], 'RdYlGn', interpolation='none')"
   ]
  },
  {
   "cell_type": "code",
   "execution_count": null,
   "id": "persistent-jerusalem",
   "metadata": {},
   "outputs": [],
   "source": [
    "upscale_factor = 0.5"
   ]
  },
  {
   "cell_type": "code",
   "execution_count": null,
   "id": "smooth-forge",
   "metadata": {},
   "outputs": [],
   "source": [
    "with rasterio.open(s2_file) as dataset:\n",
    "\n",
    "    # resample data to target shape\n",
    "    resampled = dataset.read(\n",
    "        out_shape=(\n",
    "            dataset.count,\n",
    "            int(dataset.height * upscale_factor),\n",
    "            int(dataset.width * upscale_factor)\n",
    "        ),\n",
    "        resampling=Resampling.bilinear\n",
    "    )\n",
    "\n",
    "    # scale image transform\n",
    "    transform = dataset.transform * dataset.transform.scale(\n",
    "        (dataset.width / resampled.shape[-1]),\n",
    "        (dataset.height / resampled.shape[-2])\n",
    "    )"
   ]
  },
  {
   "cell_type": "code",
   "execution_count": null,
   "id": "overall-truth",
   "metadata": {},
   "outputs": [],
   "source": [
    "original_image.shape"
   ]
  },
  {
   "cell_type": "code",
   "execution_count": null,
   "id": "duplicate-russia",
   "metadata": {},
   "outputs": [],
   "source": [
    "resampled.shape"
   ]
  },
  {
   "cell_type": "code",
   "execution_count": null,
   "id": "destroyed-portal",
   "metadata": {},
   "outputs": [],
   "source": [
    "fig, ax1 = plt.subplots(1,1, figsize=(10, 10))\n",
    "ax1.imshow(resampled[1,:,:], 'RdYlGn', interpolation='none')"
   ]
  },
  {
   "cell_type": "markdown",
   "id": "cleared-lexington",
   "metadata": {},
   "source": [
    "## Rasterio reprojecting image"
   ]
  },
  {
   "cell_type": "code",
   "execution_count": null,
   "id": "deadly-tennessee",
   "metadata": {},
   "outputs": [],
   "source": [
    "# destination geographical coordinate system\n",
    "dst_crs = 'EPSG:4326'"
   ]
  },
  {
   "cell_type": "code",
   "execution_count": null,
   "id": "indonesian-lemon",
   "metadata": {},
   "outputs": [],
   "source": [
    "with rasterio.open(s2_file) as dataset:\n",
    "    original_image = dataset.read(1)\n",
    "    print(dataset.crs)"
   ]
  },
  {
   "cell_type": "code",
   "execution_count": null,
   "id": "capital-ownership",
   "metadata": {},
   "outputs": [],
   "source": [
    "with rasterio.open(s2_file) as src:\n",
    "    print(src.shape)\n",
    "    print(src.dtypes)\n",
    "    transform, width, height = calculate_default_transform(\n",
    "        src.crs, dst_crs, src.width, src.height, *src.bounds)\n",
    "    kwargs = src.meta.copy()\n",
    "    kwargs.update({\n",
    "        'crs': dst_crs,\n",
    "        'transform': transform,\n",
    "        'width': width,\n",
    "        'height': height\n",
    "    })\n",
    "\n",
    "    reproject_array = np.zeros((224,472),dtypes=np.uint8)\n",
    "    \n",
    "    with rasterio.open('C:/Users/arevi/OneDrive/YT_GITHUB_v2/TEST_DATASETS/test_crs.tif', 'w', **kwargs) as dst:\n",
    "        for i in range(1, src.count + 1):\n",
    "            reproject(\n",
    "                source=rasterio.band(src, i),\n",
    "                destination=rasterio.band(dst, i),\n",
    "                src_transform=src.transform,\n",
    "                src_crs=src.crs,\n",
    "                dst_transform=transform,\n",
    "                dst_crs=dst_crs,\n",
    "                resampling=Resampling.nearest)\n",
    "        print(dst.shape)"
   ]
  },
  {
   "cell_type": "code",
   "execution_count": null,
   "id": "outer-france",
   "metadata": {},
   "outputs": [],
   "source": [
    "np.zeros((224,472))"
   ]
  },
  {
   "cell_type": "code",
   "execution_count": null,
   "id": "thorough-tongue",
   "metadata": {},
   "outputs": [],
   "source": [
    "num = 20.0"
   ]
  },
  {
   "cell_type": "code",
   "execution_count": null,
   "id": "premier-cleaner",
   "metadata": {},
   "outputs": [],
   "source": [
    "num2=round(num)"
   ]
  },
  {
   "cell_type": "code",
   "execution_count": null,
   "id": "initial-finnish",
   "metadata": {},
   "outputs": [],
   "source": [
    "num2"
   ]
  },
  {
   "cell_type": "code",
   "execution_count": null,
   "id": "introductory-ethernet",
   "metadata": {},
   "outputs": [],
   "source": [
    "data = {\"filename\": 'FILENAME', \"resolution\": 'RESOLUTION'}"
   ]
  }
 ],
 "metadata": {
  "kernelspec": {
   "display_name": "Python 3",
   "language": "python",
   "name": "python3"
  },
  "language_info": {
   "codemirror_mode": {
    "name": "ipython",
    "version": 3
   },
   "file_extension": ".py",
   "mimetype": "text/x-python",
   "name": "python",
   "nbconvert_exporter": "python",
   "pygments_lexer": "ipython3",
   "version": "3.7.9"
  }
 },
 "nbformat": 4,
 "nbformat_minor": 5
}
