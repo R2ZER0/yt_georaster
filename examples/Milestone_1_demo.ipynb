{
 "cells": [
  {
   "cell_type": "markdown",
   "id": "resistant-tradition",
   "metadata": {},
   "source": [
    "# Milestone 1: An example workflow demonstrating developments to yt_Geotiff to enable GeoTIFF window-reads"
   ]
  },
  {
   "cell_type": "code",
   "execution_count": null,
   "id": "powerful-career",
   "metadata": {},
   "outputs": [],
   "source": [
    "import rasterio\n",
    "from rasterio.mask import mask\n",
    "from rasterio.windows import from_bounds\n",
    "from rasterstats import zonal_stats\n",
    "from rasterio.windows import Window\n",
    "from shapely.geometry import box\n",
    "from pathlib import Path\n",
    "import numpy as np\n",
    "from scipy.ndimage import label, generate_binary_structure\n",
    "import matplotlib.pyplot as plt\n",
    "import geopandas as gpd\n",
    "import pandas as pd\n",
    "import contextily as ctx\n",
    "import time\n",
    "\n",
    "# yt packages\n",
    "import yt\n",
    "import yt.extensions.geotiff\n",
    "\n",
    "# CPU usage\n",
    "import psutil"
   ]
  },
  {
   "cell_type": "code",
   "execution_count": null,
   "id": "greek-intention",
   "metadata": {},
   "outputs": [],
   "source": [
    "%%javascript\n",
    "IPython.OutputArea.prototype._should_scroll = function(lines) {\n",
    "    return false;\n",
    "}"
   ]
  },
  {
   "cell_type": "markdown",
   "id": "dramatic-hierarchy",
   "metadata": {},
   "source": [
    "## Introduction\n",
    "\n",
    "The main objective of this notebook is to demonstrate the developments applied to yt_Geotiff, which principally include the enabling of window-reads. An example workflow is presented in order to compare the performances – based on processing time and memory usage – between loading a full Geotiff dataset and window-read approaches.\n",
    "\n",
    "The example workflow uses a single tile – covering Eastern and Central Scotland – from the high spatial resolution (2.5 m) raster 2012 European Settlement Map (ESM) that includes multiple types of \"green\" land cover classes. Portions of this dataset are then extracted using areas of interested generated from coordinates of city centres."
   ]
  },
  {
   "cell_type": "markdown",
   "id": "caroline-seeker",
   "metadata": {},
   "source": [
    "ESM land-cover key:\n",
    "\n",
    "|ESM Raster Value |Description |\n",
    "|:--------------:|:------------|\n",
    "| 50 | BU Buildings|\n",
    "| 45 | BU Area–Street Green NDVI|\n",
    "| 41 | BU Area–Green UA|\n",
    "| 40 | BU Area–Green NDVI|\n",
    "| 35 | BU Area–Streets|\n",
    "| 30 | BU Area–Open Space|\n",
    "| 25 | NBU Area–Street Green NDVI|\n",
    "| 20 | NBU Area–Green NDVI|\n",
    "| 15 | NBU Area–Streets|\n",
    "| 10 | NBU Area–Open Space|\n",
    "| 2 | Railways|\n",
    "| 1 | Water|\n",
    "| 0 | No Data|"
   ]
  },
  {
   "cell_type": "markdown",
   "id": "expanded-proof",
   "metadata": {},
   "source": [
    "# 1) Define city areas of interest\n",
    "\n",
    "#### Define positions of cities and construct area polygons for sampling the ESM land cover mapping."
   ]
  },
  {
   "cell_type": "code",
   "execution_count": null,
   "id": "rational-folks",
   "metadata": {},
   "outputs": [],
   "source": [
    "towns = [\n",
    "    {\n",
    "        \"name\": \"Edinburgh\",\n",
    "        \"coordinates\": [\n",
    "            -3.1904983520507812,\n",
    "            55.94785414846454\n",
    "        ]\n",
    "    },\n",
    "    {\n",
    "        \"name\": \"Stirling\",\n",
    "        \"coordinates\": [\n",
    "          -3.9344787597656246,\n",
    "          56.116466986937276\n",
    "        ]\n",
    "    },\n",
    "    {\n",
    "        \"name\": \"Perth\",\n",
    "        \"coordinates\": [\n",
    "          -3.43597412109375,\n",
    "          56.39490438293533\n",
    "        ]\n",
    "    },\n",
    "    {\n",
    "        \"name\": \"Dundee\",\n",
    "        \"coordinates\": [\n",
    "          -2.9697418212890625,\n",
    "          56.46097301429077\n",
    "        ]\n",
    "    },\n",
    "    {\n",
    "        \"name\": \"St-Andrews\",\n",
    "        \"coordinates\": [\n",
    "          -2.797393798828125,\n",
    "          56.33937887967572\n",
    "        ]\n",
    "    },\n",
    "    {\n",
    "        \"name\": \"Glenrothes\",\n",
    "        \"coordinates\": [\n",
    "          -3.17230224609375,\n",
    "          56.195435947498645\n",
    "        ]\n",
    "    },\n",
    "    {\n",
    "        \"name\": \"Dunfermline\",\n",
    "        \"coordinates\": [\n",
    "          -3.460865020751953,\n",
    "          56.070981516335834\n",
    "        ]\n",
    "    },\n",
    "    {\n",
    "        \"name\": \"Falkirk\",\n",
    "        \"coordinates\": [\n",
    "          -3.783760070800781,\n",
    "          55.99895692613907\n",
    "        ]\n",
    "    }\n",
    "  ]"
   ]
  },
  {
   "cell_type": "markdown",
   "id": "radio-float",
   "metadata": {},
   "source": [
    "#### Convert to pandas array"
   ]
  },
  {
   "cell_type": "code",
   "execution_count": null,
   "id": "brutal-break",
   "metadata": {},
   "outputs": [],
   "source": [
    "towns_df = pd.DataFrame(towns)\n",
    "towns_df['Latitude'] = towns_df.coordinates.apply(lambda x: x[1])\n",
    "towns_df['Longitude'] = towns_df.coordinates.apply(lambda x: x[0])"
   ]
  },
  {
   "cell_type": "markdown",
   "id": "integral-acting",
   "metadata": {},
   "source": [
    "#### Convert to geopandas and assign crs=WGS84"
   ]
  },
  {
   "cell_type": "code",
   "execution_count": null,
   "id": "quarterly-signature",
   "metadata": {},
   "outputs": [],
   "source": [
    "towns_gdf = gpd.GeoDataFrame(towns_df,\n",
    "    geometry=gpd.points_from_xy(towns_df.Longitude,towns_df.Latitude)).loc[:, ['name', 'geometry']]\n",
    "towns_gdf.crs = \"epsg:4326\"\n",
    "towns_gdf"
   ]
  },
  {
   "cell_type": "markdown",
   "id": "legitimate-illness",
   "metadata": {},
   "source": [
    "#### Change the CRS to ETRS89 (i.e. same as BigGeoTif)"
   ]
  },
  {
   "cell_type": "code",
   "execution_count": null,
   "id": "increasing-welding",
   "metadata": {},
   "outputs": [],
   "source": [
    "towns_gdf.crs = \"epsg:4326\"\n",
    "towns_gdf = towns_gdf.to_crs(\"epsg:3035\")"
   ]
  },
  {
   "cell_type": "code",
   "execution_count": null,
   "id": "forbidden-holiday",
   "metadata": {},
   "outputs": [],
   "source": [
    "towns_gdf"
   ]
  },
  {
   "cell_type": "markdown",
   "id": "polish-savage",
   "metadata": {},
   "source": [
    "#### Define a 1 x 1 km box that is site-centred on around the city centroid."
   ]
  },
  {
   "cell_type": "code",
   "execution_count": null,
   "id": "latter-anthropology",
   "metadata": {},
   "outputs": [],
   "source": [
    "bounds = towns_gdf.buffer(1000).bounds\n",
    "towns_gdf['geometry'] = bounds.apply(\n",
    "    lambda row: box(\n",
    "        row.minx,\n",
    "        row.miny,\n",
    "        row.maxx,\n",
    "        row.maxy\n",
    "    ),\n",
    "    axis=1\n",
    ")"
   ]
  },
  {
   "cell_type": "markdown",
   "id": "vocal-wellington",
   "metadata": {},
   "source": [
    "#### Plot AOIs for each city"
   ]
  },
  {
   "cell_type": "code",
   "execution_count": null,
   "id": "behavioral-company",
   "metadata": {},
   "outputs": [],
   "source": [
    "ax = towns_gdf.to_crs(epsg=3857).boundary.plot(figsize=(10, 8))\n",
    "ctx.add_basemap(ax, source=ctx.providers.Stamen.TonerLite)\n",
    "#'http://tile.stamen.com/toner-hybrid/tileZ/tileX/tileY.png'\n",
    "ax.set_axis_off()"
   ]
  },
  {
   "cell_type": "markdown",
   "id": "advance-tutorial",
   "metadata": {},
   "source": [
    "# 2) Rasterio and yt loading comparison\n",
    "#### Comparison of the performance of window reads when applied directly in via the functionality available yt_Geotiff."
   ]
  },
  {
   "cell_type": "markdown",
   "id": "connected-soccer",
   "metadata": {},
   "source": [
    "#### Define filepath of ESM"
   ]
  },
  {
   "cell_type": "code",
   "execution_count": null,
   "id": "acting-cabin",
   "metadata": {},
   "outputs": [],
   "source": [
    "data_dir = Path(__name__).absolute().parent.parent \n",
    "filepath = data_dir / \"sample_data\" / \"200km_2p5m_N38E34.tif\"\n",
    "background_memory = psutil.virtual_memory().percent"
   ]
  },
  {
   "cell_type": "markdown",
   "id": "connected-station",
   "metadata": {},
   "source": [
    "## Performance from loading the full dataset\n",
    "#### Attempt to read entire image without performing a window read"
   ]
  },
  {
   "cell_type": "code",
   "execution_count": null,
   "id": "verified-details",
   "metadata": {
    "scrolled": true
   },
   "outputs": [],
   "source": [
    "user_input = input(\"Attempt to load entire dataset: Yes(1) No(2): \")\n",
    "\n",
    "if user_input==1:\n",
    "    \n",
    "    full_t1 = time.time()\n",
    "\n",
    "    with rasterio.open(filepath) as esm_raster:\n",
    "        esm_data = esm_raster.read()\n",
    "        esm_data = esm_data.squeeze()\n",
    "        crs = esm_raster.crs\n",
    "        transform = esm_raster.transform\n",
    "\n",
    "    full_t2 = time.time()\n",
    "\n",
    "    # Calculate load time\n",
    "    print('Time elapsed= {} seconds'.format(round(full_t2-full_t1,3)))\n",
    "\n",
    "    # Calculate memory usage \n",
    "    background_memory = psutil.virtual_memory().percent\n",
    "    memory_usage = (psutil.virtual_memory()).percent-background_memory\n",
    "    print(\"Total memory usage (%)= {}\".format(round(memory_usage,2)))\n",
    "\n",
    "    "
   ]
  },
  {
   "cell_type": "markdown",
   "id": "southern-overall",
   "metadata": {},
   "source": [
    "## Perform a standard Rasterio window read (i.e. read only a portion of the image)\n",
    "#### Apply a window read in Rasterio (i.e. read only a subset of the image)"
   ]
  },
  {
   "cell_type": "code",
   "execution_count": null,
   "id": "worst-prophet",
   "metadata": {},
   "outputs": [],
   "source": [
    "def extract_raster(filepath,city_num):\n",
    "    with rasterio.open(filepath) as src:\n",
    "        # Necessary to specify the bounds of the area of interest (i.e. minimum and x,y coordinates)\n",
    "        rst = src.read(1, window=from_bounds(towns_gdf.bounds.minx[city_num], towns_gdf.bounds.miny[city_num], \n",
    "                                             towns_gdf.bounds.maxx[city_num],towns_gdf.bounds.maxy[city_num],src.transform))\n",
    "        return(rst)  \n",
    "\n",
    "rasterio_t1 = time.time()\n",
    "\n",
    "rasterio_city_arrays = {'Edinburgh':extract_raster(filepath,0), \n",
    "                        'Stirling':extract_raster(filepath,1), \n",
    "                        'Perth':extract_raster(filepath,2), \n",
    "                        'Dundee':extract_raster(filepath,3), \n",
    "                        'St-Andrews':extract_raster(filepath,4), \n",
    "                        'Glenrothes':extract_raster(filepath,5),\n",
    "                        'Dunfermline':extract_raster(filepath,6), \n",
    "                        'Falkirk':extract_raster(filepath,7)}\n",
    "\n",
    "rasterio_t2 = time.time() \n",
    "\n",
    "# Calculate total reading time\n",
    "rasterio_time = str((round(rasterio_t2-rasterio_t1,3)))\n",
    "\n",
    "# Calculate difference in RAM usage\n",
    "rasterio_usage = (psutil.virtual_memory().percent)-background_memory"
   ]
  },
  {
   "cell_type": "markdown",
   "id": "subject-driving",
   "metadata": {},
   "source": [
    "#### Sample plot of Edinburgh from performing a direct Rasterio window-read"
   ]
  },
  {
   "cell_type": "code",
   "execution_count": null,
   "id": "daily-banks",
   "metadata": {},
   "outputs": [],
   "source": [
    "fig, ax1 = plt.subplots(1,1, figsize=(8, 10))\n",
    "ax1.imshow(rasterio_city_arrays['Edinburgh'], 'gray', interpolation='none')"
   ]
  },
  {
   "cell_type": "markdown",
   "id": "relevant-beads",
   "metadata": {},
   "source": [
    "## Perform a window read in yt geotiff\n",
    "#### Apply a window read via the yt_Geotiff frontend"
   ]
  },
  {
   "cell_type": "code",
   "execution_count": null,
   "id": "adverse-government",
   "metadata": {},
   "outputs": [],
   "source": [
    "ds = yt.load(filepath)"
   ]
  },
  {
   "cell_type": "markdown",
   "id": "substantial-placement",
   "metadata": {},
   "source": [
    "#### Extract city polygon centroid coordinates as x, y lists"
   ]
  },
  {
   "cell_type": "code",
   "execution_count": null,
   "id": "blond-herald",
   "metadata": {},
   "outputs": [],
   "source": [
    "def get_centroids_XY(city_centroids):\n",
    "    '''Extract centroids from city polygons'''       \n",
    "    return (city_centroids.x, city_centroids.y)\n",
    "\n",
    "centroidseries = towns_gdf['geometry'].centroid\n",
    "\n",
    "center = [list(t) for t in zip(*map(get_centroids_XY, centroidseries))]\n",
    "point_center = np.array(center)"
   ]
  },
  {
   "cell_type": "markdown",
   "id": "prostate-barrel",
   "metadata": {},
   "source": [
    "#### yt_Geotiff data container example 2x2 km grid square site-centred on Edinburgh"
   ]
  },
  {
   "cell_type": "code",
   "execution_count": null,
   "id": "mexican-lightweight",
   "metadata": {},
   "outputs": [],
   "source": [
    "# Define dimensions\n",
    "width = ds.arr(2000, 'm')\n",
    "height = ds.arr(2000,'m') \n",
    "\n",
    "# Create rectangular data container\n",
    "Edinburgh_AOI = ds.rectangle_from_center((ds.arr(point_center[:,0],'m')),width,height)"
   ]
  },
  {
   "cell_type": "markdown",
   "id": "rolled-choice",
   "metadata": {},
   "source": [
    "#### Query data in window-read"
   ]
  },
  {
   "cell_type": "code",
   "execution_count": null,
   "id": "vanilla-copyright",
   "metadata": {},
   "outputs": [],
   "source": [
    "# Query bands \n",
    "Edinburgh_data = Edinburgh_AOI[('bands','1')]"
   ]
  },
  {
   "cell_type": "markdown",
   "id": "sensitive-healthcare",
   "metadata": {},
   "source": [
    "#### Query the different fields of the data container object"
   ]
  },
  {
   "cell_type": "code",
   "execution_count": null,
   "id": "color-ability",
   "metadata": {},
   "outputs": [],
   "source": [
    "Edinburgh_AOI['x']"
   ]
  },
  {
   "cell_type": "code",
   "execution_count": null,
   "id": "japanese-medium",
   "metadata": {},
   "outputs": [],
   "source": [
    "Edinburgh_AOI['y']"
   ]
  },
  {
   "cell_type": "code",
   "execution_count": null,
   "id": "alone-lunch",
   "metadata": {},
   "outputs": [],
   "source": [
    "Edinburgh_AOI['radius']"
   ]
  },
  {
   "cell_type": "markdown",
   "id": "fallen-sitting",
   "metadata": {},
   "source": [
    "#### Distance to pixel unit conversion"
   ]
  },
  {
   "cell_type": "code",
   "execution_count": null,
   "id": "eligible-minister",
   "metadata": {},
   "outputs": [],
   "source": [
    "distance = ds.arr(6., 'km')\n",
    "print('Number of pixels {0}'.format(distance.to('pixels')))"
   ]
  },
  {
   "cell_type": "markdown",
   "id": "common-magic",
   "metadata": {},
   "source": [
    "#### Sample plot of Edinburgh from performing a yt_Geotiff window-read"
   ]
  },
  {
   "cell_type": "code",
   "execution_count": null,
   "id": "human-rochester",
   "metadata": {},
   "outputs": [],
   "source": [
    "ds = yt.load(filepath)\n",
    "p = ds.plot(('bands', '1'), height=(2., 'km'), width=(2., 'km'), center=(ds.arr(point_center[:,0],'m')))\n",
    "p.set_log(('bands', '1'), False)\n",
    "p.set_cmap(('bands', '1'), 'B-W LINEAR')\n",
    "p.show()"
   ]
  },
  {
   "cell_type": "markdown",
   "id": "naval-klein",
   "metadata": {},
   "source": [
    "#### Extract raster based on rectangular object define from center coordinates (x,y), width and height"
   ]
  },
  {
   "cell_type": "code",
   "execution_count": null,
   "id": "partial-religion",
   "metadata": {},
   "outputs": [],
   "source": [
    "# Define a Apoint_center[0:2,0]-width)OI radius\n",
    "width = ds.arr(2000., 'm')\n",
    "height = ds.arr(2000.,'m') \n",
    "\n",
    "yt_t1 = time.time()\n",
    "\n",
    "yt_city_arrays = {'Edinburgh':ds.rectangle_from_center((ds.arr(point_center[:,0],'m')),width,height)[('bands','1')], \n",
    "                  'Stirling':ds.rectangle_from_center((ds.arr(point_center[:,1],'m')),width,height)[('bands','1')], \n",
    "                  'Perth':ds.rectangle_from_center((ds.arr(point_center[:,2],'m')),width,height)[('bands','1')], \n",
    "                  'Dundee':ds.rectangle_from_center((ds.arr(point_center[:,3],'m')),width,height)[('bands','1')], \n",
    "                  'St-Andrews':ds.rectangle_from_center((ds.arr(point_center[:,4],'m')),width,height)[('bands','1')], \n",
    "                  'Glenrothes':ds.rectangle_from_center((ds.arr(point_center[:,5],'m')),width,height)[('bands','1')],\n",
    "                  'Dunfermline':ds.rectangle_from_center((ds.arr(point_center[:,6],'m')),width,height)[('bands','1')], \n",
    "                  'Falkirk':ds.rectangle_from_center((ds.arr(point_center[:,7],'m')),width,height)[('bands','1')]}\n",
    "\n",
    "yt_t2 = time.time()\n",
    "\n",
    "yt_memory_usage = ((psutil.virtual_memory().percent)-background_memory)-rasterio_usage"
   ]
  },
  {
   "cell_type": "markdown",
   "id": "fuzzy-atlanta",
   "metadata": {},
   "source": [
    "#### Load performance comparison"
   ]
  },
  {
   "cell_type": "code",
   "execution_count": null,
   "id": "norwegian-providence",
   "metadata": {},
   "outputs": [],
   "source": [
    "data = {'Test'      : [\"Loading time (sec.)\", \"CPU usage\"],\n",
    "        'Rasterio'  : [round(rasterio_t2-rasterio_t1,3), rasterio_usage],\n",
    "        'yt'        : [round(yt_t2-yt_t1,3),yt_memory_usage]}\n",
    "df = pd.DataFrame(data)\n",
    "df"
   ]
  },
  {
   "cell_type": "markdown",
   "id": "sized-report",
   "metadata": {},
   "source": [
    "# 3) Further developments & Next steps"
   ]
  },
  {
   "cell_type": "markdown",
   "id": "extended-colonial",
   "metadata": {},
   "source": [
    "## Additional data container shapes\n",
    "\n",
    "#### Different data container shapes (e.g. circle) can be supported in yt_Geotiff. Interested in additional shapes?"
   ]
  },
  {
   "cell_type": "code",
   "execution_count": null,
   "id": "hairy-hardwood",
   "metadata": {},
   "outputs": [],
   "source": [
    "radius = ds.arr(1000.,'m')\n",
    "circle_centre = ds.arr(point_center[:,0],'m')\n",
    "\n",
    "cp = ds.circle(circle_centre, radius)\n",
    "               \n",
    "q = ds.plot([('bands','1')],cp)\n",
    "q.set_log(('bands', '1'), False)\n",
    "q.set_cmap(('bands', '1'), 'B-W LINEAR')\n",
    "q.show()"
   ]
  },
  {
   "attachments": {
    "image.png": {
     "image/png": "[encoded data removed]"
    }
   },
   "cell_type": "markdown",
   "id": "educational-albany",
   "metadata": {},
   "source": [
    "## Milestone 2: yt_Geotiff developments to support multi-resolution data\n",
    "The second project milestone will principally include developments to yt_Geotiff in order to support the fusion of multispectral acquisitions from multiple satellites/sensors and/or platforms (e.g. UAV) at different spatial resolutions. Within a multi-resolution stack, the coarse-scale datasets will be dissagregated to match the highest resolution datasets. \n",
    "\n",
    "![image.png](attachment:image.png)\n"
   ]
  },
  {
   "cell_type": "markdown",
   "id": "convertible-impossible",
   "metadata": {},
   "source": [
    "## Milestone 3: Polygon data selection\n",
    "The third milestone will involve developments to yt_Geotiff to allow users to select data using arbitrary boundaries (e.g. individual fields) as opposed to the pre-defined shapes (i.e. rectangle, circle)."
   ]
  },
  {
   "cell_type": "code",
   "execution_count": null,
   "id": "recovered-harvest",
   "metadata": {
    "scrolled": true
   },
   "outputs": [],
   "source": [
    "%%html\n",
    "<iframe src=\"https://qgiscloud.com/ATEC/WK_F1_2017\" width=\"1200\" height=\"800\"></iframe>"
   ]
  }
 ],
 "metadata": {
  "kernelspec": {
   "display_name": "Python 3",
   "language": "python",
   "name": "python3"
  },
  "language_info": {
   "codemirror_mode": {
    "name": "ipython",
    "version": 3
   },
   "file_extension": ".py",
   "mimetype": "text/x-python",
   "name": "python",
   "nbconvert_exporter": "python",
   "pygments_lexer": "ipython3",
   "version": "3.7.9"
  }
 },
 "nbformat": 4,
 "nbformat_minor": 5
}
