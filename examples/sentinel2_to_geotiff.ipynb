{
 "cells": [
  {
   "cell_type": "code",
   "execution_count": null,
   "metadata": {},
   "outputs": [],
   "source": [
    "from sentinelsat import SentinelAPI, read_geojson, geojson_to_wkt\n",
    "import zipfile\n",
    "import glob\n",
    "import rasterio\n",
    "import yaml\n",
    "import yt\n",
    "import yt.extensions.geotiff"
   ]
  },
  {
   "cell_type": "markdown",
   "metadata": {},
   "source": [
    "### Download the data"
   ]
  },
  {
   "cell_type": "code",
   "execution_count": null,
   "metadata": {},
   "outputs": [],
   "source": [
    "### format should be:\n",
    "### user: <username>\n",
    "### password: <password>\n",
    "with open('sentinel.yaml', 'r') as f:\n",
    "    info = yaml.load(f, Loader=yaml.FullLoader)"
   ]
  },
  {
   "cell_type": "code",
   "execution_count": null,
   "metadata": {},
   "outputs": [],
   "source": [
    "api = SentinelAPI(\n",
    "    user=info['user'],\n",
    "    password=info['password'],\n",
    "    api_url=\"https://scihub.copernicus.eu/dhus/\",\n",
    ")\n",
    "\n",
    "geojson = read_geojson('footprint.geojson')\n",
    "footprint = geojson_to_wkt(geojson)\n",
    "date = ('NOW-30DAYS','NOW')\n",
    "producttype = 'S2MSI2A'\n",
    "\n",
    "products = api.query(footprint, date=date, producttype=producttype)"
   ]
  },
  {
   "cell_type": "code",
   "execution_count": null,
   "metadata": {},
   "outputs": [],
   "source": [
    "product_df = api.to_dataframe(products)\\\n",
    "                .sort_values(['cloudcoverpercentage', 'ingestiondate'], ascending=[True, True])\\\n",
    "                .head(1)"
   ]
  },
  {
   "cell_type": "code",
   "execution_count": null,
   "metadata": {},
   "outputs": [],
   "source": [
    "product_df[['cloudcoverpercentage', 'ingestiondate']] # hopefully we have an image with little cloud."
   ]
  },
  {
   "cell_type": "code",
   "execution_count": null,
   "metadata": {},
   "outputs": [],
   "source": [
    "download = api.download_all(product_df.index)"
   ]
  },
  {
   "cell_type": "markdown",
   "metadata": {},
   "source": [
    "### Unzip and export 20m resolution bands to GeoTIFF"
   ]
  },
  {
   "cell_type": "code",
   "execution_count": null,
   "metadata": {},
   "outputs": [],
   "source": [
    "s2zipfile = product_df.title.tolist()[0] + '.zip'\n",
    "with zipfile.ZipFile(s2zipfile, 'r') as zip_ref:\n",
    "    zip_ref.extractall('.')\n",
    "s2ds = product_df.title.tolist()[0] + '.SAFE'"
   ]
  },
  {
   "cell_type": "code",
   "execution_count": null,
   "metadata": {},
   "outputs": [],
   "source": [
    "s2r20m_files = sorted(glob.glob(s2ds + '/GRANULE/**/IMG_DATA/R20m/*_20m.jp2', recursive=True))"
   ]
  },
  {
   "cell_type": "code",
   "execution_count": null,
   "metadata": {},
   "outputs": [],
   "source": [
    "bands = {}\n",
    "ignored_bands = ['AOT', 'TCI', 'WVP'] # we just want the numbered bands and the scene classification\n",
    "for f in s2r20m_files:\n",
    "    label = f.split('_')[-2]\n",
    "    if any([label == ignored_band for ignored_band in ignored_bands]): continue\n",
    "    bands[label] = rasterio.open(f, driver='JP2OpenJPEG')"
   ]
  },
  {
   "cell_type": "markdown",
   "metadata": {},
   "source": [
    "### Export multiband geotiff"
   ]
  },
  {
   "cell_type": "code",
   "execution_count": null,
   "metadata": {},
   "outputs": [],
   "source": [
    "filename = product_df.title.tolist()[0] + '_20m.tif'\n",
    "geotiff = rasterio.open(filename,'w',driver='Gtiff',\n",
    "                         width=bands['B04'].width, height=bands['B04'].height,\n",
    "                         count=len(bands.keys()),\n",
    "                         crs=bands['B04'].crs,\n",
    "                         transform=bands['B04'].transform,\n",
    "                         dtype=bands['B04'].dtypes[0]\n",
    "                         )\n",
    "for i, label in enumerate(bands.keys()):\n",
    "    geotiff.write(bands[label].read(1), i + 1)\n",
    "geotiff.close()"
   ]
  },
  {
   "cell_type": "code",
   "execution_count": null,
   "metadata": {},
   "outputs": [],
   "source": [
    "list(bands.keys()) # this order"
   ]
  },
  {
   "cell_type": "markdown",
   "metadata": {},
   "source": [
    "#### Save band information to supplement file"
   ]
  },
  {
   "cell_type": "code",
   "execution_count": null,
   "metadata": {},
   "outputs": [],
   "source": [
    "field_map = dict((str(i+1), band) for i, band in enumerate(bands))\n",
    "data = {\"field_type\": \"sentinel2\", \"field_map\": field_map}\n",
    "with open(\"sentinel2_fields.yaml\", 'w') as f:\n",
    "    yaml.dump(data, f)"
   ]
  },
  {
   "cell_type": "markdown",
   "metadata": {},
   "source": [
    "We have produced a geotiff from the Sentinel 2 20m resolution data we downloaded. The next step could be to load it into yt and see what we get!"
   ]
  }
 ],
 "metadata": {
  "kernelspec": {
   "display_name": "Python 3",
   "language": "python",
   "name": "python3"
  },
  "language_info": {
   "codemirror_mode": {
    "name": "ipython",
    "version": 3
   },
   "file_extension": ".py",
   "mimetype": "text/x-python",
   "name": "python",
   "nbconvert_exporter": "python",
   "pygments_lexer": "ipython3",
   "version": "3.8.3"
  }
 },
 "nbformat": 4,
 "nbformat_minor": 4
}
