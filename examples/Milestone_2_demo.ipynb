{
 "cells": [
  {
   "cell_type": "markdown",
   "metadata": {},
   "source": [
    "# Milestone 2 example workflow: Lake Water Quality Monitoring\n",
    "\n",
    "## Introduction\n",
    "\n",
    "Water quality monitoring in lakes and reservoirs has a number of applications, from climate science to aquaculture. Earth observation techniques enable us to compliment ground sensors by monitoring over a larger area or attempt to provide information where no ground sensors are present.\n",
    "\n",
    "Here we want to go through the process of calculating some of the properties used in modelling water quality. For our case study, we will focus on a part of Lake Victoria in Southern Uganda.\n",
    "\n",
    "We want to measure values for different water quality properties. [Several different properties can be estimated using remote sensing](https://www.ncbi.nlm.nih.gov/pmc/articles/PMC5017463/pdf/sensors-16-01298.pdf). Commonly we would work with in-situ data to create some empirical relationships. Here, rather than obtaining physical concentrations we can simply estimate relative quantities and will focus on the following as an example:\n",
    "1. Chlorophyll-a, chl-a\n",
    "2. Colored dissolved organic matter, CDOM\n",
    "3. Water surface temperature"
   ]
  },
  {
   "cell_type": "code",
   "execution_count": 1,
   "metadata": {
    "scrolled": true
   },
   "outputs": [],
   "source": [
    "import rasterio\n",
    "import geopandas as gpd\n",
    "import contextily as ctx\n",
    "from shapely.geometry import asPolygon\n",
    "import numpy as np\n",
    "from pathlib import Path\n",
    "import numpy as np\n",
    "import matplotlib.pyplot as plt\n",
    "import seaborn as sns\n",
    "import glob\n",
    "\n",
    "# yt packages\n",
    "import yt\n",
    "import yt.extensions.geotiff"
   ]
  },
  {
   "cell_type": "code",
   "execution_count": null,
   "metadata": {},
   "outputs": [],
   "source": [
    "footprint_geom = asPolygon(\n",
    "    np.array(\n",
    "        [\n",
    "            [\n",
    "              31.629638671875,\n",
    "              -1.2962761196418089\n",
    "            ],\n",
    "            [\n",
    "              34.11529541015625,\n",
    "              -1.2962761196418089\n",
    "            ],\n",
    "            [\n",
    "              34.11529541015625,\n",
    "              0.6426867176331666\n",
    "            ],\n",
    "            [\n",
    "              31.629638671875,\n",
    "              0.6426867176331666\n",
    "            ],\n",
    "            [\n",
    "              31.629638671875,\n",
    "              -1.2962761196418089\n",
    "            ]\n",
    "        ]\n",
    "    )\n",
    ")"
   ]
  },
  {
   "cell_type": "code",
   "execution_count": null,
   "metadata": {},
   "outputs": [],
   "source": [
    "footprint = gpd.GeoDataFrame([{'id':0, 'geometry': footprint_geom}])\n",
    "footprint.crs = \"epsg:4326\"\n",
    "footprint\n",
    "ax = footprint.to_crs(epsg=3857).boundary.plot(figsize=(14,12))\n",
    "ctx.add_basemap(ax, url=ctx.providers.Stamen.TonerLite)\n",
    "ax.set_axis_off()"
   ]
  },
  {
   "cell_type": "markdown",
   "metadata": {},
   "source": [
    "For chl-a, we can estimate values using the different reflectance bands in the following equations:\n",
    "\n",
    "`chl-a ~ R(443 nm)/R(560 nm) ~ (B1/B3)` <= Case 1: for water dominated by phytoplankton\n",
    "\n",
    "`chl-a ~ R(705 nm)/R(665 nm) ~ (B5/B4)` <= Case 2: more complex mixture of optically active components (including CDOM)\n",
    "\n",
    "A more precise index which is commonly used to provide an estimated upper limit on the chlorophyll content is the Maximum Chlorophyll Index, `MCI = R(705 nm) - R(605 nm) - 0.53*(R(740 nm) - R(605 nm)) = B5 - B4 - 0.53*(B6 - B4)`.\n",
    "\n",
    "And we can estimate CDOM absorption at 440 nm using the following:\n",
    "\n",
    "`CDOM(440 nm) ~ 8 * (B3 / B2)^(-1.4)`"
   ]
  },
  {
   "cell_type": "markdown",
   "metadata": {},
   "source": [
    "## Loading, resampling and plotting Sentinel-2 data\n",
    "Sentinel-2 datasets products with European Space Agency (ESA) level 1C and 2A processing can be loaded and queried within yt_geotiff. All band files within the Sentinel-2 directory are up/down sampled accordingly to match the original load image. Cubic spline interpolation can be applied in order to improve the visual appearance. "
   ]
  },
  {
   "cell_type": "code",
   "execution_count": null,
   "metadata": {},
   "outputs": [],
   "source": [
    "fn1= 'C:/Users/arevi/OneDrive/YT_GITHUB_v2/TEST_DATASETS/S2_Landsat_test/T36MVE_20210315T075701_B01.jp2'\n",
    "fn2= 'C:/Users/arevi/OneDrive/YT_GITHUB_v2/TEST_DATASETS/S2_Landsat_test/T36MVE_20210315T075701_B02.jp2'\n",
    "fn3= 'C:/Users/arevi/OneDrive/YT_GITHUB_v2/TEST_DATASETS/S2_Landsat_test/T36MVE_20210315T075701_B03.jp2'\n",
    "fn4= 'C:/Users/arevi/OneDrive/YT_GITHUB_v2/TEST_DATASETS/S2_Landsat_test/T36MVE_20210315T075701_B04.jp2'\n",
    "fn5= 'C:/Users/arevi/OneDrive/YT_GITHUB_v2/TEST_DATASETS/S2_Landsat_test/T36MVE_20210315T075701_B05.jp2'\n",
    "fn6= 'C:/Users/arevi/OneDrive/YT_GITHUB_v2/TEST_DATASETS/S2_Landsat_test/T36MVE_20210315T075701_B06.jp2'\n",
    "fn7= 'C:/Users/arevi/OneDrive/YT_GITHUB_v2/TEST_DATASETS/S2_Landsat_test/T36MVE_20210315T075701_B07.jp2'\n",
    "fn8= 'C:/Users/arevi/OneDrive/YT_GITHUB_v2/TEST_DATASETS/S2_Landsat_test/T36MVE_20210315T075701_B08.jp2'\n",
    "fn9= 'C:/Users/arevi/OneDrive/YT_GITHUB_v2/TEST_DATASETS/S2_Landsat_test/T36MVE_20210315T075701_B8A.jp2'\n",
    "fn10= 'C:/Users/arevi/OneDrive/YT_GITHUB_v2/TEST_DATASETS/S2_Landsat_test/T36MVE_20210315T075701_B09.jp2'\n",
    "fn11= 'C:/Users/arevi/OneDrive/YT_GITHUB_v2/TEST_DATASETS/S2_Landsat_test/T36MVE_20210315T075701_B10.jp2'\n",
    "fn12= 'C:/Users/arevi/OneDrive/YT_GITHUB_v2/TEST_DATASETS/S2_Landsat_test/T36MVE_20210315T075701_B11.jp2'\n",
    "fn13= 'C:/Users/arevi/OneDrive/YT_GITHUB_v2/TEST_DATASETS/S2_Landsat_test/T36MVE_20210315T075701_B12.jp2'\n",
    "fn14= 'C:/Users/arevi/OneDrive/YT_GITHUB_v2/TEST_DATASETS/S2_Landsat_test/LC08_L2SP_171060_20210227_20210304_02_T1_SR_B1.TIF'\n",
    "fn15= 'C:/Users/arevi/OneDrive/YT_GITHUB_v2/TEST_DATASETS/S2_Landsat_test/LC08_L2SP_171060_20210227_20210304_02_T1_SR_B2.TIF'\n",
    "fn16= 'C:/Users/arevi/OneDrive/YT_GITHUB_v2/TEST_DATASETS/S2_Landsat_test/LC08_L2SP_171060_20210227_20210304_02_T1_SR_B3.TIF'\n",
    "fn17= 'C:/Users/arevi/OneDrive/YT_GITHUB_v2/TEST_DATASETS/S2_Landsat_test/LC08_L2SP_171060_20210227_20210304_02_T1_SR_B4.TIF'\n",
    "fn18= 'C:/Users/arevi/OneDrive/YT_GITHUB_v2/TEST_DATASETS/S2_Landsat_test/LC08_L2SP_171060_20210227_20210304_02_T1_SR_B5.TIF'\n",
    "fn19= 'C:/Users/arevi/OneDrive/YT_GITHUB_v2/TEST_DATASETS/S2_Landsat_test/LC08_L2SP_171060_20210227_20210304_02_T1_SR_B6.TIF'\n",
    "fn20= 'C:/Users/arevi/OneDrive/YT_GITHUB_v2/TEST_DATASETS/S2_Landsat_test/LC08_L2SP_171060_20210227_20210304_02_T1_SR_B7.TIF'\n",
    "fn21= 'C:/Users/arevi/OneDrive/YT_GITHUB_v2/TEST_DATASETS/S2_Landsat_test/LC08_L2SP_171060_20210227_20210304_02_T1_ST_B10.TIF'\n",
    "fn22= 'C:/Users/arevi/OneDrive/YT_GITHUB_v2/TEST_DATASETS/S2_Landsat_test/s1b-iw-grd-vv-20210324t062938-20210324t063003-026153-031ee7-001.tiff'\n",
    "fn23= 'C:/Users/arevi/OneDrive/YT_GITHUB_v2/TEST_DATASETS/S2_Landsat_test/s1b-iw-grd-vh-20210324t062938-20210324t063003-026153-031ee7-001.tiff'"
   ]
  },
  {
   "cell_type": "code",
   "execution_count": 174,
   "metadata": {},
   "outputs": [],
   "source": [
    "# Search for image files in directory\n",
    "directory= 'C:/Users/arevi/OneDrive/YT_GITHUB_v2/TEST_DATASETS/S2_Landsat_test/'\n",
    "types = ('*.jp2', '*.TIF') # the tuple of file types\n",
    "filenames = \"\"\n",
    "files_grabbed = []\n",
    "for files in types:\n",
    "    files_grabbed.extend(glob.glob(directory+files))"
   ]
  },
  {
   "cell_type": "code",
   "execution_count": 180,
   "metadata": {},
   "outputs": [],
   "source": [
    "file_num = range(0,len(files_grabbed))"
   ]
  },
  {
   "cell_type": "code",
   "execution_count": 181,
   "metadata": {},
   "outputs": [
    {
     "data": {
      "text/plain": [
       "range(0, 22)"
      ]
     },
     "execution_count": 181,
     "metadata": {},
     "output_type": "execute_result"
    }
   ],
   "source": [
    "file_num"
   ]
  },
  {
   "cell_type": "code",
   "execution_count": 182,
   "metadata": {},
   "outputs": [
    {
     "name": "stderr",
     "output_type": "stream",
     "text": [
      "yt : [INFO     ] 2021-04-12 16:40:16,708 Parameters: domain_dimensions         = [1830 1830    1]\n",
      "yt : [INFO     ] 2021-04-12 16:40:16,710 Parameters: domain_left_edge          = [ 399960. 9890200.       0.] m\n",
      "yt : [INFO     ] 2021-04-12 16:40:16,711 Parameters: domain_right_edge         = [5.0976e+05 1.0000e+07 1.0000e+00] m\n"
     ]
    }
   ],
   "source": [
    "#ds = yt.load(fn5,fn18) # S2 + L8: Test 1\n",
    "ds = yt.load(*[str(files_grabbed[fn]) for fn in file_num])\n",
    "#ds = yt.load(fn5) # S2:\n",
    "#ds = yt.load(fn18) # L8\n"
   ]
  },
  {
   "cell_type": "code",
   "execution_count": 183,
   "metadata": {},
   "outputs": [
    {
     "data": {
      "text/plain": [
       "[('bands', 'LS_B1'),\n",
       " ('bands', 'LS_B10'),\n",
       " ('bands', 'LS_B2'),\n",
       " ('bands', 'LS_B3'),\n",
       " ('bands', 'LS_B4'),\n",
       " ('bands', 'LS_B5'),\n",
       " ('bands', 'LS_B6'),\n",
       " ('bands', 'LS_B7'),\n",
       " ('bands', 'S2_B01'),\n",
       " ('bands', 'S2_B02'),\n",
       " ('bands', 'S2_B03'),\n",
       " ('bands', 'S2_B04'),\n",
       " ('bands', 'S2_B05'),\n",
       " ('bands', 'S2_B06'),\n",
       " ('bands', 'S2_B07'),\n",
       " ('bands', 'S2_B08'),\n",
       " ('bands', 'S2_B09'),\n",
       " ('bands', 'S2_B10'),\n",
       " ('bands', 'S2_B11'),\n",
       " ('bands', 'S2_B12'),\n",
       " ('bands', 'S2_B8A'),\n",
       " ('bands', 'S2_TCI')]"
      ]
     },
     "execution_count": 183,
     "metadata": {},
     "output_type": "execute_result"
    }
   ],
   "source": [
    "ds.field_list"
   ]
  },
  {
   "cell_type": "code",
   "execution_count": 184,
   "metadata": {},
   "outputs": [
    {
     "ename": "RuntimeError",
     "evalue": "Region right edge[1] < left edge: width = 0.0",
     "output_type": "error",
     "traceback": [
      "\u001b[1;31m---------------------------------------------------------------------------\u001b[0m",
      "\u001b[1;31mRuntimeError\u001b[0m                              Traceback (most recent call last)",
      "\u001b[1;32m<ipython-input-184-1a974f83fd8b>\u001b[0m in \u001b[0;36m<module>\u001b[1;34m\u001b[0m\n\u001b[0;32m      1\u001b[0m \u001b[1;31m#p = ds.plot(('bands', 'LS_B5'), height=(10., 'km'), width=(20., 'km'), center=ds.arr([471696,9989860],'m')) # s2\u001b[0m\u001b[1;33m\u001b[0m\u001b[1;33m\u001b[0m\u001b[1;33m\u001b[0m\u001b[0m\n\u001b[1;32m----> 2\u001b[1;33m \u001b[0mp\u001b[0m \u001b[1;33m=\u001b[0m \u001b[0mds\u001b[0m\u001b[1;33m.\u001b[0m\u001b[0mplot\u001b[0m\u001b[1;33m(\u001b[0m\u001b[1;33m(\u001b[0m\u001b[1;34m'bands'\u001b[0m\u001b[1;33m,\u001b[0m \u001b[1;34m'LS_B5'\u001b[0m\u001b[1;33m)\u001b[0m\u001b[1;33m,\u001b[0m \u001b[0mheight\u001b[0m\u001b[1;33m=\u001b[0m\u001b[1;33m(\u001b[0m\u001b[1;36m10.\u001b[0m\u001b[1;33m,\u001b[0m \u001b[1;34m'km'\u001b[0m\u001b[1;33m)\u001b[0m\u001b[1;33m,\u001b[0m \u001b[0mwidth\u001b[0m\u001b[1;33m=\u001b[0m\u001b[1;33m(\u001b[0m\u001b[1;36m20.\u001b[0m\u001b[1;33m,\u001b[0m \u001b[1;34m'km'\u001b[0m\u001b[1;33m)\u001b[0m\u001b[1;33m,\u001b[0m \u001b[0mcenter\u001b[0m\u001b[1;33m=\u001b[0m\u001b[0mds\u001b[0m\u001b[1;33m.\u001b[0m\u001b[0marr\u001b[0m\u001b[1;33m(\u001b[0m\u001b[1;33m[\u001b[0m\u001b[1;36m471590\u001b[0m\u001b[1;33m,\u001b[0m\u001b[1;33m-\u001b[0m\u001b[1;36m10285\u001b[0m\u001b[1;33m]\u001b[0m\u001b[1;33m,\u001b[0m\u001b[1;34m'm'\u001b[0m\u001b[1;33m)\u001b[0m\u001b[1;33m)\u001b[0m \u001b[1;31m#l\u001b[0m\u001b[1;33m\u001b[0m\u001b[1;33m\u001b[0m\u001b[0m\n\u001b[0m\u001b[0;32m      3\u001b[0m \u001b[0mp\u001b[0m\u001b[1;33m.\u001b[0m\u001b[0mset_log\u001b[0m\u001b[1;33m(\u001b[0m\u001b[1;33m(\u001b[0m\u001b[1;34m'bands'\u001b[0m\u001b[1;33m,\u001b[0m \u001b[1;34m'LS_B5'\u001b[0m\u001b[1;33m)\u001b[0m\u001b[1;33m,\u001b[0m \u001b[1;32mTrue\u001b[0m\u001b[1;33m)\u001b[0m\u001b[1;33m\u001b[0m\u001b[1;33m\u001b[0m\u001b[0m\n\u001b[0;32m      4\u001b[0m \u001b[1;31m#p.set_zlim(('bands', 'LS_B5'), 10000, 20000)\u001b[0m\u001b[1;33m\u001b[0m\u001b[1;33m\u001b[0m\u001b[1;33m\u001b[0m\u001b[0m\n\u001b[0;32m      5\u001b[0m \u001b[0mp\u001b[0m\u001b[1;33m.\u001b[0m\u001b[0mset_cmap\u001b[0m\u001b[1;33m(\u001b[0m\u001b[1;33m(\u001b[0m\u001b[1;34m'bands'\u001b[0m\u001b[1;33m,\u001b[0m \u001b[1;34m'S2_B05'\u001b[0m\u001b[1;33m)\u001b[0m\u001b[1;33m,\u001b[0m \u001b[1;34m'turbo'\u001b[0m\u001b[1;33m)\u001b[0m\u001b[1;33m\u001b[0m\u001b[1;33m\u001b[0m\u001b[0m\n",
      "\u001b[1;32mc:\\users\\arevi\\onedrive\\yt_github_v2\\yt_geotiff\\yt_geotiff\\data_structures.py\u001b[0m in \u001b[0;36mplot\u001b[1;34m(self, field, data_source, center, width, height)\u001b[0m\n\u001b[0;32m    537\u001b[0m \u001b[1;33m\u001b[0m\u001b[0m\n\u001b[0;32m    538\u001b[0m         \u001b[1;31m# construct a window data set\u001b[0m\u001b[1;33m\u001b[0m\u001b[1;33m\u001b[0m\u001b[1;33m\u001b[0m\u001b[0m\n\u001b[1;32m--> 539\u001b[1;33m         \u001b[0mwleft\u001b[0m\u001b[1;33m,\u001b[0m \u001b[0mwright\u001b[0m \u001b[1;33m=\u001b[0m \u001b[0mself\u001b[0m\u001b[1;33m.\u001b[0m\u001b[0mdata\u001b[0m\u001b[1;33m.\u001b[0m\u001b[0m_get_selection_window\u001b[0m\u001b[1;33m(\u001b[0m\u001b[0mdata_source\u001b[0m\u001b[1;33m.\u001b[0m\u001b[0mselector\u001b[0m\u001b[1;33m)\u001b[0m\u001b[1;33m\u001b[0m\u001b[1;33m\u001b[0m\u001b[0m\n\u001b[0m\u001b[0;32m    540\u001b[0m         \u001b[1;32mwith\u001b[0m \u001b[0mlog_level\u001b[0m\u001b[1;33m(\u001b[0m\u001b[1;36m40\u001b[0m\u001b[1;33m)\u001b[0m\u001b[1;33m:\u001b[0m\u001b[1;33m\u001b[0m\u001b[1;33m\u001b[0m\u001b[0m\n\u001b[0;32m    541\u001b[0m             \u001b[0mwds\u001b[0m \u001b[1;33m=\u001b[0m \u001b[0mGeoTiffWindowDataset\u001b[0m\u001b[1;33m(\u001b[0m\u001b[0mself\u001b[0m\u001b[1;33m,\u001b[0m \u001b[0mwleft\u001b[0m\u001b[1;33m,\u001b[0m \u001b[0mwright\u001b[0m\u001b[1;33m)\u001b[0m\u001b[1;33m\u001b[0m\u001b[1;33m\u001b[0m\u001b[0m\n",
      "\u001b[1;32m~\\OneDrive\\yt_project\\yt_geotiff-master\\yt\\yt\\data_objects\\selection_objects\\data_selection_objects.py\u001b[0m in \u001b[0;36mselector\u001b[1;34m(self)\u001b[0m\n\u001b[0;32m     78\u001b[0m             )\n\u001b[0;32m     79\u001b[0m         \u001b[1;32melse\u001b[0m\u001b[1;33m:\u001b[0m\u001b[1;33m\u001b[0m\u001b[1;33m\u001b[0m\u001b[0m\n\u001b[1;32m---> 80\u001b[1;33m             \u001b[0mself\u001b[0m\u001b[1;33m.\u001b[0m\u001b[0m_selector\u001b[0m \u001b[1;33m=\u001b[0m \u001b[0msclass\u001b[0m\u001b[1;33m(\u001b[0m\u001b[0mself\u001b[0m\u001b[1;33m)\u001b[0m\u001b[1;33m\u001b[0m\u001b[1;33m\u001b[0m\u001b[0m\n\u001b[0m\u001b[0;32m     81\u001b[0m         \u001b[1;32mreturn\u001b[0m \u001b[0mself\u001b[0m\u001b[1;33m.\u001b[0m\u001b[0m_selector\u001b[0m\u001b[1;33m\u001b[0m\u001b[1;33m\u001b[0m\u001b[0m\n\u001b[0;32m     82\u001b[0m \u001b[1;33m\u001b[0m\u001b[0m\n",
      "\u001b[1;32m~\\OneDrive\\yt_project\\yt_geotiff-master\\yt\\yt\\geometry\\_selection_routines\\region_selector.pxi\u001b[0m in \u001b[0;36myt.geometry.selection_routines.RegionSelector.__init__\u001b[1;34m()\u001b[0m\n",
      "\u001b[1;31mRuntimeError\u001b[0m: Region right edge[1] < left edge: width = 0.0"
     ]
    }
   ],
   "source": [
    "\n",
    "#p = ds.plot(('bands', 'LS_B5'), height=(10., 'km'), width=(20., 'km'), center=ds.arr([471696,9989860],'m')) # s2\n",
    "p = ds.plot(('bands', 'LS_B5'), height=(10., 'km'), width=(20., 'km'), center=ds.arr([471590,-10285],'m')) #l\n",
    "p.set_log(('bands', 'LS_B5'), True)\n",
    "#p.set_zlim(('bands', 'LS_B5'), 10000, 20000)\n",
    "p.set_cmap(('bands', 'S2_B05'), 'turbo')\n",
    "p.show()\n",
    "\n",
    "\n",
    "p = ds.plot(('bands', 'S2_B05'), height=(10., 'km'), width=(20., 'km'), center=ds.arr([471696,9989860],'m'))# s2\n",
    "p = ds.plot(('bands', 'S2_B05'), height=(10., 'km'), width=(20., 'km'), center=ds.arr([471590,-10285],'m'))#l\n",
    "p.set_log(('bands', 'S2_B05'), False)\n",
    "p.set_cmap(('bands', 'S2_B05'), 'B-W LINEAR')\n",
    "p.show()\n"
   ]
  },
  {
   "cell_type": "code",
   "execution_count": null,
   "metadata": {},
   "outputs": [],
   "source": [
    "ds.derived_field_list"
   ]
  },
  {
   "cell_type": "markdown",
   "metadata": {},
   "source": [
    "## 1) Picking out water bodies\n",
    "\n",
    "Sentinel-2 NDWI for water body detection can be constructed by using:\n",
    "\n",
    "\"Green\" Band 3 (559nm) and \"NIR\" Band 8A (864nm)\n",
    "\n",
    "NDWI = (Green - NIR)/(Green + NIR)"
   ]
  },
  {
   "cell_type": "markdown",
   "metadata": {},
   "source": [
    "### Query the NDWI derivable field and convert to numpy array"
   ]
  },
  {
   "cell_type": "code",
   "execution_count": null,
   "metadata": {},
   "outputs": [],
   "source": [
    "# Define dimensions\n",
    "width = ds.arr(5., 'km')\n",
    "height = ds.arr(5.,'km')\n",
    "rectangle_centre = ds.arr([457770,9946294],'m')\n",
    "\n",
    "rectangular_yt_container = ds.rectangle_from_center(rectangle_centre,width,height)\n",
    "ndwi_data = rectangular_yt_container[('bands', 'NDWI')].d"
   ]
  },
  {
   "cell_type": "code",
   "execution_count": null,
   "metadata": {},
   "outputs": [],
   "source": [
    "ndwi_data.shape"
   ]
  },
  {
   "cell_type": "markdown",
   "metadata": {},
   "source": [
    "### Have a look at the histogram of pixel values for NDWI"
   ]
  },
  {
   "cell_type": "code",
   "execution_count": null,
   "metadata": {},
   "outputs": [],
   "source": [
    "fig1, (ax1) = plt.subplots(1,1, figsize=(14,6))\n",
    "sns.set_theme(style=\"ticks\")\n",
    "sns.histplot(data=ndwi_data, ax=ax1, color=\"b\")\n",
    "ax1.set_xlabel('NDWI')"
   ]
  },
  {
   "cell_type": "markdown",
   "metadata": {},
   "source": [
    "### Isolate water pixels based on a threshold:\n",
    "\n",
    "##### < 0.1 - Non-water\n",
    "##### => 0.1 - Water"
   ]
  },
  {
   "cell_type": "code",
   "execution_count": null,
   "metadata": {},
   "outputs": [],
   "source": [
    "water_pixels = ndwi_data[ndwi_data>=0.1]"
   ]
  },
  {
   "cell_type": "markdown",
   "metadata": {},
   "source": [
    "### Calculate area coverage of water pixels:"
   ]
  },
  {
   "cell_type": "code",
   "execution_count": null,
   "metadata": {},
   "outputs": [],
   "source": [
    "#ad = ds.all_data() IN km**2\n",
    "water = rectangular_yt_container.cut_region([\"obj['bands', 'NDWI'] >= 0.1\"])\n",
    "print (water[\"index\", \"area\"].sum())"
   ]
  },
  {
   "cell_type": "markdown",
   "metadata": {},
   "source": [
    "## 2) Maximum Chlorophyll Index\n",
    "\n",
    "Calculating MCI using the following `MCI = B5 - B4 - 0.53*(B6 - B4)` from above."
   ]
  },
  {
   "cell_type": "code",
   "execution_count": null,
   "metadata": {},
   "outputs": [],
   "source": [
    "mci_data= water[('bands', 'MCI')].d"
   ]
  },
  {
   "cell_type": "code",
   "execution_count": null,
   "metadata": {},
   "outputs": [],
   "source": [
    "fig2, (ax1) = plt.subplots(1,1, figsize=(14,6))\n",
    "sns.histplot(data=mci_data, ax=ax1, color=\"g\")\n",
    "ax1.set_xlabel('MCI')"
   ]
  },
  {
   "cell_type": "markdown",
   "metadata": {},
   "source": [
    "## 3) Water temperature\n",
    "\n",
    "Temperature estimated with Landsat 8"
   ]
  },
  {
   "cell_type": "code",
   "execution_count": null,
   "metadata": {},
   "outputs": [],
   "source": [
    "# Define dimensions\n",
    "width = ds.arr(5000., 'm')\n",
    "height = ds.arr(5000.,'m')\n",
    "rectangle_centre = ds.arr([444808,9951471],'m')\n",
    "\n",
    "rectangular_yt_container = ds.rectangle_from_center(rectangle_centre,width,height)"
   ]
  },
  {
   "cell_type": "code",
   "execution_count": null,
   "metadata": {},
   "outputs": [],
   "source": [
    "rectangular_yt_container[('bands', 'LS_temperature')]"
   ]
  },
  {
   "cell_type": "code",
   "execution_count": null,
   "metadata": {},
   "outputs": [],
   "source": [
    "p = ds.plot(('bands', 'LS_temperature'), height=height, width=width, center=rectangle_centre)\n",
    "p.set_log(('bands', 'LS_temperature'), False)\n",
    "p.set_cmap(('bands', 'LS_temperature'), 'B-W LINEAR')\n",
    "p.show()"
   ]
  },
  {
   "cell_type": "code",
   "execution_count": null,
   "metadata": {},
   "outputs": [],
   "source": [
    "ds.filename_list"
   ]
  },
  {
   "cell_type": "markdown",
   "metadata": {},
   "source": [
    "## Sentinel-1 data (THIS MIGHT BE REMOVED)"
   ]
  },
  {
   "cell_type": "code",
   "execution_count": null,
   "metadata": {},
   "outputs": [],
   "source": [
    "filepath = 'C:/Users/arevi/OneDrive/YT_GITHUB_v2/TEST_DATASETS/s1_test/temp.tiff'"
   ]
  },
  {
   "cell_type": "code",
   "execution_count": null,
   "metadata": {},
   "outputs": [],
   "source": [
    "ds = yt.load(filepath)"
   ]
  },
  {
   "cell_type": "code",
   "execution_count": null,
   "metadata": {},
   "outputs": [],
   "source": [
    "ds.field_list"
   ]
  },
  {
   "cell_type": "code",
   "execution_count": null,
   "metadata": {},
   "outputs": [],
   "source": [
    "# Define dimensions\n",
    "width = ds.arr(1000, 'm')\n",
    "height = ds.arr(1000,'m') \n",
    "rectangle_centre = ds.arr([447768,9950530],'m')\n",
    "\n",
    "rectangular_yt_container = ds.rectangle_from_center(rectangle_centre,width,height)"
   ]
  },
  {
   "cell_type": "code",
   "execution_count": null,
   "metadata": {},
   "outputs": [],
   "source": [
    "rectangular_yt_container[('bands','temp')]"
   ]
  },
  {
   "cell_type": "code",
   "execution_count": null,
   "metadata": {},
   "outputs": [],
   "source": [
    "with rasterio.open(filepath) as src:\n",
    "    print(src.crs)\n",
    "    print(src.transform)\n",
    "    \n",
    "    #rasterio.transform.from_gcps(gcps)"
   ]
  },
  {
   "cell_type": "code",
   "execution_count": null,
   "metadata": {},
   "outputs": [],
   "source": [
    "with rasterio.open(filepath, 'r') as src:\n",
    "    gcps, gcp_crs = src.gcps"
   ]
  },
  {
   "cell_type": "code",
   "execution_count": null,
   "metadata": {},
   "outputs": [],
   "source": [
    "gcp_crs"
   ]
  },
  {
   "cell_type": "code",
   "execution_count": null,
   "metadata": {},
   "outputs": [],
   "source": [
    "src.dtypes"
   ]
  },
  {
   "cell_type": "code",
   "execution_count": null,
   "metadata": {},
   "outputs": [],
   "source": [
    "rasterio.transform.from_gcps(gcps)"
   ]
  },
  {
   "cell_type": "code",
   "execution_count": null,
   "metadata": {},
   "outputs": [],
   "source": [
    "new_dataset = rasterio.open(\"C:/Users/arevi/OneDrive/YT_GITHUB_v2/TEST_DATASETS/new2.tiff\",\n",
    "                             'w', \n",
    "                             driver=\"GTiff\",\n",
    "                             height=src.shape[0],\n",
    "                             width=src.shape[1],\n",
    "                             count=1,\n",
    "                             dtype='uint8',\n",
    "                             crs='+proj=latlong',\n",
    "                             transform=rasterio.transform.from_gcps(gcps))\n"
   ]
  },
  {
   "cell_type": "markdown",
   "metadata": {},
   "source": [
    "write temp file"
   ]
  }
 ],
 "metadata": {
  "kernelspec": {
   "display_name": "Python 3",
   "language": "python",
   "name": "python3"
  },
  "language_info": {
   "codemirror_mode": {
    "name": "ipython",
    "version": 3
   },
   "file_extension": ".py",
   "mimetype": "text/x-python",
   "name": "python",
   "nbconvert_exporter": "python",
   "pygments_lexer": "ipython3",
   "version": "3.7.9"
  }
 },
 "nbformat": 4,
 "nbformat_minor": 4
}
